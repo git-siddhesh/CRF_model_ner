{
 "cells": [
  {
   "cell_type": "code",
   "execution_count": 1,
   "metadata": {},
   "outputs": [
    {
     "data": {
      "text/html": [
       "<div>\n",
       "<style scoped>\n",
       "    .dataframe tbody tr th:only-of-type {\n",
       "        vertical-align: middle;\n",
       "    }\n",
       "\n",
       "    .dataframe tbody tr th {\n",
       "        vertical-align: top;\n",
       "    }\n",
       "\n",
       "    .dataframe thead th {\n",
       "        text-align: right;\n",
       "    }\n",
       "</style>\n",
       "<table border=\"1\" class=\"dataframe\">\n",
       "  <thead>\n",
       "    <tr style=\"text-align: right;\">\n",
       "      <th></th>\n",
       "      <th>Sentence #</th>\n",
       "      <th>Sentence</th>\n",
       "      <th>POS</th>\n",
       "      <th>Tag</th>\n",
       "    </tr>\n",
       "  </thead>\n",
       "  <tbody>\n",
       "    <tr>\n",
       "      <th>0</th>\n",
       "      <td>Sentence: 13390</td>\n",
       "      <td>In Tehran , the chief of Iran 's Revolutionary...</td>\n",
       "      <td>['IN', 'NNP', ',', 'DT', 'NN', 'IN', 'NNP', 'P...</td>\n",
       "      <td>['O', 'B-tim', 'O', 'O', 'O', 'O', 'B-geo', 'O...</td>\n",
       "    </tr>\n",
       "    <tr>\n",
       "      <th>1</th>\n",
       "      <td>Sentence: 3036</td>\n",
       "      <td>Even though both sites are now functioning , T...</td>\n",
       "      <td>['RB', 'IN', 'DT', 'NNS', 'VBP', 'RB', 'VBG', ...</td>\n",
       "      <td>['O', 'O', 'O', 'O', 'O', 'O', 'O', 'O', 'B-or...</td>\n",
       "    </tr>\n",
       "    <tr>\n",
       "      <th>2</th>\n",
       "      <td>Sentence: 6014</td>\n",
       "      <td>Suspected U.S. drones have carried out at leas...</td>\n",
       "      <td>['VBN', 'NNP', 'NNS', 'VBP', 'VBN', 'RP', 'IN'...</td>\n",
       "      <td>['O', 'B-geo', 'O', 'O', 'O', 'O', 'O', 'O', '...</td>\n",
       "    </tr>\n",
       "    <tr>\n",
       "      <th>3</th>\n",
       "      <td>Sentence: 34940</td>\n",
       "      <td>President Barack Obama has reaffirmed his beli...</td>\n",
       "      <td>['NNP', 'NNP', 'NNP', 'VBZ', 'VBN', 'PRP$', 'N...</td>\n",
       "      <td>['B-per', 'I-per', 'I-per', 'O', 'O', 'O', 'O'...</td>\n",
       "    </tr>\n",
       "    <tr>\n",
       "      <th>4</th>\n",
       "      <td>Sentence: 9605</td>\n",
       "      <td>They all decided that one person should get of...</td>\n",
       "      <td>['PRP', 'DT', 'VBD', 'IN', 'CD', 'NN', 'MD', '...</td>\n",
       "      <td>['O', 'O', 'O', 'O', 'O', 'O', 'O', 'O', 'O', ...</td>\n",
       "    </tr>\n",
       "  </tbody>\n",
       "</table>\n",
       "</div>"
      ],
      "text/plain": [
       "        Sentence #                                           Sentence  \\\n",
       "0  Sentence: 13390  In Tehran , the chief of Iran 's Revolutionary...   \n",
       "1   Sentence: 3036  Even though both sites are now functioning , T...   \n",
       "2   Sentence: 6014  Suspected U.S. drones have carried out at leas...   \n",
       "3  Sentence: 34940  President Barack Obama has reaffirmed his beli...   \n",
       "4   Sentence: 9605  They all decided that one person should get of...   \n",
       "\n",
       "                                                 POS  \\\n",
       "0  ['IN', 'NNP', ',', 'DT', 'NN', 'IN', 'NNP', 'P...   \n",
       "1  ['RB', 'IN', 'DT', 'NNS', 'VBP', 'RB', 'VBG', ...   \n",
       "2  ['VBN', 'NNP', 'NNS', 'VBP', 'VBN', 'RP', 'IN'...   \n",
       "3  ['NNP', 'NNP', 'NNP', 'VBZ', 'VBN', 'PRP$', 'N...   \n",
       "4  ['PRP', 'DT', 'VBD', 'IN', 'CD', 'NN', 'MD', '...   \n",
       "\n",
       "                                                 Tag  \n",
       "0  ['O', 'B-tim', 'O', 'O', 'O', 'O', 'B-geo', 'O...  \n",
       "1  ['O', 'O', 'O', 'O', 'O', 'O', 'O', 'O', 'B-or...  \n",
       "2  ['O', 'B-geo', 'O', 'O', 'O', 'O', 'O', 'O', '...  \n",
       "3  ['B-per', 'I-per', 'I-per', 'O', 'O', 'O', 'O'...  \n",
       "4  ['O', 'O', 'O', 'O', 'O', 'O', 'O', 'O', 'O', ...  "
      ]
     },
     "execution_count": 1,
     "metadata": {},
     "output_type": "execute_result"
    }
   ],
   "source": [
    "import pandas as pd\n",
    "\n",
    "ner_test = pd.read_csv('ner_test.csv')\n",
    "ner_test.head()"
   ]
  },
  {
   "cell_type": "code",
   "execution_count": 7,
   "metadata": {},
   "outputs": [
    {
     "data": {
      "text/plain": [
       "['Sentence: 13390',\n",
       " \"In Tehran , the chief of Iran 's Revolutionary Guards , General Yahya Rahim Safavi , said Saturday his country would use ballistic missiles to defend itself if attacked .\",\n",
       " \"['IN', 'NNP', ',', 'DT', 'NN', 'IN', 'NNP', 'POS', 'NNP', 'NNPS', ',', 'NNP', 'NNP', 'NNP', 'NNP', ',', 'VBD', 'NNP', 'PRP$', 'NN', 'MD', 'VB', 'JJ', 'NNS', 'TO', 'VB', 'PRP', 'IN', 'VBN', '.']\",\n",
       " \"['O', 'B-tim', 'O', 'O', 'O', 'O', 'B-geo', 'O', 'B-geo', 'I-geo', 'O', 'B-org', 'I-org', 'I-org', 'I-org', 'O', 'O', 'B-tim', 'O', 'O', 'O', 'O', 'O', 'O', 'O', 'O', 'O', 'O', 'O', 'O']\"]"
      ]
     },
     "execution_count": 7,
     "metadata": {},
     "output_type": "execute_result"
    }
   ],
   "source": [
    "k = ner_test.iloc[0].to_list()\n",
    "k"
   ]
  },
  {
   "cell_type": "code",
   "execution_count": 19,
   "metadata": {},
   "outputs": [
    {
     "data": {
      "text/plain": [
       "(['In',\n",
       "  'Tehran',\n",
       "  ',',\n",
       "  'the',\n",
       "  'chief',\n",
       "  'of',\n",
       "  'Iran',\n",
       "  \"'s\",\n",
       "  'Revolutionary',\n",
       "  'Guards',\n",
       "  ',',\n",
       "  'General',\n",
       "  'Yahya',\n",
       "  'Rahim',\n",
       "  'Safavi',\n",
       "  ',',\n",
       "  'said',\n",
       "  'Saturday',\n",
       "  'his',\n",
       "  'country',\n",
       "  'would',\n",
       "  'use',\n",
       "  'ballistic',\n",
       "  'missiles',\n",
       "  'to',\n",
       "  'defend',\n",
       "  'itself',\n",
       "  'if',\n",
       "  'attacked',\n",
       "  '.'],\n",
       " 30)"
      ]
     },
     "execution_count": 19,
     "metadata": {},
     "output_type": "execute_result"
    }
   ],
   "source": [
    "k[1].split(), len(k[1].split())"
   ]
  },
  {
   "cell_type": "code",
   "execution_count": 18,
   "metadata": {},
   "outputs": [
    {
     "data": {
      "text/plain": [
       "(['IN',\n",
       "  'NNP',\n",
       "  ',',\n",
       "  'DT',\n",
       "  'NN',\n",
       "  'IN',\n",
       "  'NNP',\n",
       "  'POS',\n",
       "  'NNP',\n",
       "  'NNPS',\n",
       "  ',',\n",
       "  'NNP',\n",
       "  'NNP',\n",
       "  'NNP',\n",
       "  'NNP',\n",
       "  ',',\n",
       "  'VBD',\n",
       "  'NNP',\n",
       "  'PRP$',\n",
       "  'NN',\n",
       "  'MD',\n",
       "  'VB',\n",
       "  'JJ',\n",
       "  'NNS',\n",
       "  'TO',\n",
       "  'VB',\n",
       "  'PRP',\n",
       "  'IN',\n",
       "  'VBN',\n",
       "  '.'],\n",
       " 30)"
      ]
     },
     "execution_count": 18,
     "metadata": {},
     "output_type": "execute_result"
    }
   ],
   "source": [
    "# conver \"['1', 'O']\" to [1, 'O'] using eval\n",
    "eval(k[2]), len(eval(k[2]))\n",
    "\n"
   ]
  },
  {
   "cell_type": "code",
   "execution_count": 20,
   "metadata": {},
   "outputs": [
    {
     "data": {
      "text/html": [
       "<div>\n",
       "<style scoped>\n",
       "    .dataframe tbody tr th:only-of-type {\n",
       "        vertical-align: middle;\n",
       "    }\n",
       "\n",
       "    .dataframe tbody tr th {\n",
       "        vertical-align: top;\n",
       "    }\n",
       "\n",
       "    .dataframe thead th {\n",
       "        text-align: right;\n",
       "    }\n",
       "</style>\n",
       "<table border=\"1\" class=\"dataframe\">\n",
       "  <thead>\n",
       "    <tr style=\"text-align: right;\">\n",
       "      <th></th>\n",
       "      <th>Sentence</th>\n",
       "      <th>POS</th>\n",
       "      <th>Tag</th>\n",
       "    </tr>\n",
       "  </thead>\n",
       "  <tbody>\n",
       "    <tr>\n",
       "      <th>0</th>\n",
       "      <td>In Tehran , the chief of Iran 's Revolutionary...</td>\n",
       "      <td>['IN', 'NNP', ',', 'DT', 'NN', 'IN', 'NNP', 'P...</td>\n",
       "      <td>['O', 'B-tim', 'O', 'O', 'O', 'O', 'B-geo', 'O...</td>\n",
       "    </tr>\n",
       "    <tr>\n",
       "      <th>1</th>\n",
       "      <td>Even though both sites are now functioning , T...</td>\n",
       "      <td>['RB', 'IN', 'DT', 'NNS', 'VBP', 'RB', 'VBG', ...</td>\n",
       "      <td>['O', 'O', 'O', 'O', 'O', 'O', 'O', 'O', 'B-or...</td>\n",
       "    </tr>\n",
       "    <tr>\n",
       "      <th>2</th>\n",
       "      <td>Suspected U.S. drones have carried out at leas...</td>\n",
       "      <td>['VBN', 'NNP', 'NNS', 'VBP', 'VBN', 'RP', 'IN'...</td>\n",
       "      <td>['O', 'B-geo', 'O', 'O', 'O', 'O', 'O', 'O', '...</td>\n",
       "    </tr>\n",
       "    <tr>\n",
       "      <th>3</th>\n",
       "      <td>President Barack Obama has reaffirmed his beli...</td>\n",
       "      <td>['NNP', 'NNP', 'NNP', 'VBZ', 'VBN', 'PRP$', 'N...</td>\n",
       "      <td>['B-per', 'I-per', 'I-per', 'O', 'O', 'O', 'O'...</td>\n",
       "    </tr>\n",
       "    <tr>\n",
       "      <th>4</th>\n",
       "      <td>They all decided that one person should get of...</td>\n",
       "      <td>['PRP', 'DT', 'VBD', 'IN', 'CD', 'NN', 'MD', '...</td>\n",
       "      <td>['O', 'O', 'O', 'O', 'O', 'O', 'O', 'O', 'O', ...</td>\n",
       "    </tr>\n",
       "  </tbody>\n",
       "</table>\n",
       "</div>"
      ],
      "text/plain": [
       "                                            Sentence  \\\n",
       "0  In Tehran , the chief of Iran 's Revolutionary...   \n",
       "1  Even though both sites are now functioning , T...   \n",
       "2  Suspected U.S. drones have carried out at leas...   \n",
       "3  President Barack Obama has reaffirmed his beli...   \n",
       "4  They all decided that one person should get of...   \n",
       "\n",
       "                                                 POS  \\\n",
       "0  ['IN', 'NNP', ',', 'DT', 'NN', 'IN', 'NNP', 'P...   \n",
       "1  ['RB', 'IN', 'DT', 'NNS', 'VBP', 'RB', 'VBG', ...   \n",
       "2  ['VBN', 'NNP', 'NNS', 'VBP', 'VBN', 'RP', 'IN'...   \n",
       "3  ['NNP', 'NNP', 'NNP', 'VBZ', 'VBN', 'PRP$', 'N...   \n",
       "4  ['PRP', 'DT', 'VBD', 'IN', 'CD', 'NN', 'MD', '...   \n",
       "\n",
       "                                                 Tag  \n",
       "0  ['O', 'B-tim', 'O', 'O', 'O', 'O', 'B-geo', 'O...  \n",
       "1  ['O', 'O', 'O', 'O', 'O', 'O', 'O', 'O', 'B-or...  \n",
       "2  ['O', 'B-geo', 'O', 'O', 'O', 'O', 'O', 'O', '...  \n",
       "3  ['B-per', 'I-per', 'I-per', 'O', 'O', 'O', 'O'...  \n",
       "4  ['O', 'O', 'O', 'O', 'O', 'O', 'O', 'O', 'O', ...  "
      ]
     },
     "execution_count": 20,
     "metadata": {},
     "output_type": "execute_result"
    }
   ],
   "source": [
    "test_crf = pd.read_csv('Test_CRF.csv')\n",
    "test_crf.head()\n"
   ]
  },
  {
   "cell_type": "code",
   "execution_count": 11,
   "metadata": {},
   "outputs": [
    {
     "data": {
      "text/plain": [
       "array([[ 0.65793846,  0.77677853,  0.94884681,  1.7783176 , -0.89389882,\n",
       "        -0.69575738],\n",
       "       [-0.43707965,  0.36450531,  0.05430084,  0.03855252, -1.15812843,\n",
       "         0.01273876],\n",
       "       [ 0.74664985, -0.77007466, -0.31346794,  1.27510681, -0.25458872,\n",
       "        -1.56912045],\n",
       "       [ 1.53502838, -0.23736561, -0.26380421,  0.80091985,  0.81204613,\n",
       "        -0.5167686 ],\n",
       "       [-2.46534099,  0.08445656,  0.01638625, -0.39267946,  1.02810797,\n",
       "        -0.60292095]])"
      ]
     },
     "execution_count": 11,
     "metadata": {},
     "output_type": "execute_result"
    }
   ],
   "source": [
    "import numpy as np\n",
    "\n",
    "labels = np.array([1, 2, 3, 4, 5])\n",
    "num_states = 6\n",
    "\n",
    "state_features = np.zeros((len(labels), num_states))\n",
    "# randomize the state features\n",
    "state_features = np.random.randn(len(labels), num_states)\n",
    "\n",
    "state_features"
   ]
  },
  {
   "cell_type": "code",
   "execution_count": 12,
   "metadata": {},
   "outputs": [
    {
     "data": {
      "text/plain": [
       "array([ 0.77677853,  0.05430084,  1.27510681,  0.81204613, -0.60292095])"
      ]
     },
     "execution_count": 12,
     "metadata": {},
     "output_type": "execute_result"
    }
   ],
   "source": [
    "state_features[range(len(labels)), labels]"
   ]
  },
  {
   "cell_type": "code",
   "execution_count": 13,
   "metadata": {},
   "outputs": [
    {
     "data": {
      "text/plain": [
       "array([[-0.23736561, -0.26380421,  0.80091985,  0.81204613],\n",
       "       [ 0.08445656,  0.01638625, -0.39267946,  1.02810797]])"
      ]
     },
     "execution_count": 13,
     "metadata": {},
     "output_type": "execute_result"
    }
   ],
   "source": [
    "state_features[3:8, [1,2,3,4]]"
   ]
  },
  {
   "cell_type": "code",
   "execution_count": null,
   "metadata": {},
   "outputs": [],
   "source": []
  }
 ],
 "metadata": {
  "kernelspec": {
   "display_name": "chapter",
   "language": "python",
   "name": "python3"
  },
  "language_info": {
   "codemirror_mode": {
    "name": "ipython",
    "version": 3
   },
   "file_extension": ".py",
   "mimetype": "text/x-python",
   "name": "python",
   "nbconvert_exporter": "python",
   "pygments_lexer": "ipython3",
   "version": "3.13.2"
  }
 },
 "nbformat": 4,
 "nbformat_minor": 2
}
